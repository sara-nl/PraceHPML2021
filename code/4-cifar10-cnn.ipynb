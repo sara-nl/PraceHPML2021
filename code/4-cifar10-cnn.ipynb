{
 "cells": [
  {
   "cell_type": "code",
   "execution_count": null,
   "metadata": {
    "colab": {},
    "colab_type": "code",
    "id": "0trJmd6DjqBZ"
   },
   "outputs": [],
   "source": [
    "import tensorflow as tf\n",
    "import matplotlib.pyplot as plt\n",
    "import numpy as np"
   ]
  },
  {
   "cell_type": "markdown",
   "metadata": {
    "colab_type": "text",
    "id": "7NAbSZiaoJ4z"
   },
   "source": [
    "Load and prepare the [CIFAR10 dataset](https://www.cs.toronto.edu/%7Ekriz/cifar.html). Convert the samples from integers to floating-point numbers:"
   ]
  },
  {
   "cell_type": "code",
   "execution_count": null,
   "metadata": {
    "colab": {},
    "colab_type": "code",
    "id": "7FP5258xjs-v"
   },
   "outputs": [],
   "source": [
    "cifar10 = tf.keras.datasets.cifar10\n",
    "\n",
    "# do some processing: scale the data range to 1\n",
    "# <FILL YOUR CODE HERE>"
   ]
  },
  {
   "cell_type": "markdown",
   "metadata": {},
   "source": [
    "Check data shape and range"
   ]
  },
  {
   "cell_type": "code",
   "execution_count": null,
   "metadata": {},
   "outputs": [],
   "source": [
    "x_train.shape, x_test.shape"
   ]
  },
  {
   "cell_type": "code",
   "execution_count": null,
   "metadata": {},
   "outputs": [],
   "source": [
    "x_train.max(), x_train.min(), x_test.max(), x_test.min()"
   ]
  },
  {
   "cell_type": "markdown",
   "metadata": {},
   "source": [
    "Randomly plot a grid of data points"
   ]
  },
  {
   "cell_type": "code",
   "execution_count": null,
   "metadata": {},
   "outputs": [],
   "source": [
    "grid_size = 10\n",
    "dim = x_train.shape[1]\n",
    "selected = np.random.randint(x_train.shape[0], size=grid_size*grid_size)\n",
    "data = np.zeros((dim*grid_size, dim*grid_size, 3))\n",
    "for i, sid in enumerate(selected):\n",
    "    row = i // grid_size\n",
    "    col = i % grid_size\n",
    "    data[row*dim:(row+1)*dim, col*dim:(col+1)*dim, :] = x_train[sid]\n",
    "    \n",
    "%matplotlib inline\n",
    "plt.figure(1, figsize=(10,10))\n",
    "plt.imshow(data)\n",
    "plt.show()"
   ]
  },
  {
   "cell_type": "markdown",
   "metadata": {
    "colab_type": "text",
    "id": "BPZ68wASog_I"
   },
   "source": [
    "Build the `tf.keras.Sequential` model by stacking layers. Choose an optimizer and loss function for training:"
   ]
  },
  {
   "cell_type": "code",
   "execution_count": null,
   "metadata": {
    "colab": {},
    "colab_type": "code",
    "id": "h3IKyzTCDNGo"
   },
   "outputs": [],
   "source": [
    "model = tf.keras.models.Sequential([\n",
    "    # <FILL YOUR CODE HERE>\n",
    "])\n",
    "\n",
    "model.compile(\n",
    "    # <FILL YOUR CODE HERE>\n",
    ")"
   ]
  },
  {
   "cell_type": "code",
   "execution_count": null,
   "metadata": {},
   "outputs": [],
   "source": [
    "model.summary()"
   ]
  },
  {
   "cell_type": "markdown",
   "metadata": {
    "colab_type": "text",
    "id": "ix4mEL65on-w"
   },
   "source": [
    "Train and evaluate the model:"
   ]
  },
  {
   "cell_type": "code",
   "execution_count": null,
   "metadata": {
    "colab": {},
    "colab_type": "code",
    "id": "F7dTAzgHDUh7"
   },
   "outputs": [],
   "source": [
    "history = model.fit(x_train, y_train, epochs=5, batch_size=128, validation_data=(x_test, y_test))\n",
    "\n",
    "model.evaluate(x_test,  y_test, verbose=2)"
   ]
  },
  {
   "cell_type": "code",
   "execution_count": null,
   "metadata": {},
   "outputs": [],
   "source": [
    "l1, = plt.plot(history.history['loss'], label='loss', color='red', linewidth=1)\n",
    "l2, = plt.plot(history.history['val_loss'], label='val_loss', color='blue')\n",
    "plt.xlabel('Epoch')\n",
    "plt.ylabel('loss')\n",
    "ax = plt.twinx()\n",
    "l3, = ax.plot(history.history['accuracy'], label='acc', color='red', linewidth=3)\n",
    "l4, = ax.plot(history.history['val_accuracy'], label='val_acc', color='blue', linewidth=3)\n",
    "ax.set_ylabel('acc')\n",
    "\n",
    "lines = [l1, l2, l3, l4]\n",
    "plt.legend(lines,  [l.get_label() for l in lines], loc=5)\n",
    "plt.show()"
   ]
  },
  {
   "cell_type": "markdown",
   "metadata": {
    "colab_type": "text",
    "id": "T4JfEh7kvx6m"
   },
   "source": [
    "Can you improve the accuracy?"
   ]
  },
  {
   "cell_type": "code",
   "execution_count": null,
   "metadata": {},
   "outputs": [],
   "source": []
  },
  {
   "cell_type": "code",
   "execution_count": null,
   "metadata": {},
   "outputs": [],
   "source": []
  },
  {
   "cell_type": "markdown",
   "metadata": {},
   "source": [
    "### Bonus: Improve the accuracy with state-of-the-art CNNs and transfer learning"
   ]
  },
  {
   "cell_type": "code",
   "execution_count": null,
   "metadata": {},
   "outputs": [],
   "source": [
    "backbone = tf.keras.applications.ResNet50(include_top=False, input_shape=(dim,dim, 3), classes=10)"
   ]
  },
  {
   "cell_type": "code",
   "execution_count": null,
   "metadata": {},
   "outputs": [],
   "source": [
    "model_advanced = tf.keras.models.Sequential()\n",
    "# <FILL YOUR CODE HERE>\n",
    "\n",
    "\n",
    "\n",
    "model_advanced.compile(\n",
    "# <FILL YOUR CODE HERE>\n",
    ")\n",
    "model_advanced.summary()"
   ]
  },
  {
   "cell_type": "code",
   "execution_count": null,
   "metadata": {},
   "outputs": [],
   "source": [
    "history = model_advanced.fit(x_train, y_train, epochs=5, batch_size=128, validation_data=(x_test, y_test))\n",
    "\n",
    "model_advanced.evaluate(x_test,  y_test, verbose=2)"
   ]
  },
  {
   "cell_type": "code",
   "execution_count": null,
   "metadata": {},
   "outputs": [],
   "source": [
    "l1, = plt.plot(history.history['loss'], label='loss', color='red', linewidth=1)\n",
    "l2, = plt.plot(history.history['val_loss'], label='val_loss', color='blue')\n",
    "plt.xlabel('Epoch')\n",
    "plt.ylabel('loss')\n",
    "ax = plt.twinx()\n",
    "l3, = ax.plot(history.history['accuracy'], label='acc', color='red', linewidth=3)\n",
    "l4, = ax.plot(history.history['val_accuracy'], label='val_acc', color='blue', linewidth=3)\n",
    "ax.set_ylabel('acc')\n",
    "\n",
    "lines = [l1, l2, l3, l4]\n",
    "plt.legend(lines,  [l.get_label() for l in lines], loc=5)\n",
    "plt.show()"
   ]
  },
  {
   "cell_type": "code",
   "execution_count": null,
   "metadata": {},
   "outputs": [],
   "source": []
  }
 ],
 "metadata": {
  "colab": {
   "collapsed_sections": [
    "rX8mhOLljYeM"
   ],
   "name": "beginner.ipynb",
   "private_outputs": true,
   "provenance": [],
   "toc_visible": true
  },
  "kernelspec": {
   "display_name": "Python 3",
   "language": "python",
   "name": "python3"
  },
  "language_info": {
   "codemirror_mode": {
    "name": "ipython",
    "version": 3
   },
   "file_extension": ".py",
   "mimetype": "text/x-python",
   "name": "python",
   "nbconvert_exporter": "python",
   "pygments_lexer": "ipython3",
   "version": "3.6.6"
  }
 },
 "nbformat": 4,
 "nbformat_minor": 1
}
