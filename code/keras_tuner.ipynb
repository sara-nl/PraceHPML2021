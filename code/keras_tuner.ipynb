{
 "cells": [
  {
   "cell_type": "markdown",
   "metadata": {
    "id": "qFdPvlXBOdUN"
   },
   "source": [
    "# Introduction to the Keras Tuner"
   ]
  },
  {
   "cell_type": "markdown",
   "metadata": {
    "id": "xHxb-dlhMIzW"
   },
   "source": [
    "## Overview\n",
    "\n",
    "The Keras Tuner is a library that helps you pick the optimal set of hyperparameters for your TensorFlow program. The process of selecting the right set of hyperparameters for your machine learning (ML) application is called *hyperparameter tuning* or *hypertuning*.\n",
    "\n",
    "Hyperparameters are the variables that govern the training process and the topology of an ML model. These variables remain constant over the training process and directly impact the performance of your ML program. Hyperparameters are of two types:\n",
    "1. **Model hyperparameters** which influence model selection such as the number and width of hidden layers\n",
    "2. **Algorithm hyperparameters** which influence the speed and quality of the learning algorithm such as the learning rate for Stochastic Gradient Descent (SGD) and the number of nearest neighbors for a k Nearest Neighbors (KNN) classifier\n",
    "\n",
    "In this tutorial, you will use the Keras Tuner to perform hypertuning for an image classification application."
   ]
  },
  {
   "cell_type": "markdown",
   "metadata": {
    "id": "MUXex9ctTuDB"
   },
   "source": [
    "## Setup"
   ]
  },
  {
   "cell_type": "code",
   "execution_count": 1,
   "metadata": {
    "execution": {
     "iopub.execute_input": "2021-05-19T10:54:08.330522Z",
     "iopub.status.busy": "2021-05-19T10:54:08.329947Z",
     "iopub.status.idle": "2021-05-19T10:54:15.232882Z",
     "shell.execute_reply": "2021-05-19T10:54:15.232279Z"
    },
    "id": "IqR2PQG4ZaZ0"
   },
   "outputs": [],
   "source": [
    "import tensorflow as tf\n",
    "from tensorflow import keras"
   ]
  },
  {
   "cell_type": "markdown",
   "metadata": {
    "id": "g83Lwsy-Aq2_"
   },
   "source": [
    "Install and import the Keras Tuner."
   ]
  },
  {
   "cell_type": "code",
   "execution_count": 2,
   "metadata": {
    "execution": {
     "iopub.execute_input": "2021-05-19T10:54:15.237729Z",
     "iopub.status.busy": "2021-05-19T10:54:15.236953Z",
     "iopub.status.idle": "2021-05-19T10:54:18.752726Z",
     "shell.execute_reply": "2021-05-19T10:54:18.753291Z"
    },
    "id": "hpMLpbt9jcO6"
   },
   "outputs": [],
   "source": [
    "!pip install -q -U keras-tuner"
   ]
  },
  {
   "cell_type": "code",
   "execution_count": 3,
   "metadata": {
    "execution": {
     "iopub.execute_input": "2021-05-19T10:54:18.758382Z",
     "iopub.status.busy": "2021-05-19T10:54:18.757721Z",
     "iopub.status.idle": "2021-05-19T10:54:19.258555Z",
     "shell.execute_reply": "2021-05-19T10:54:19.257917Z"
    },
    "id": "_leAIdFKAxAD"
   },
   "outputs": [],
   "source": [
    "import kerastuner as kt"
   ]
  },
  {
   "cell_type": "markdown",
   "metadata": {
    "id": "ReV_UXOgCZvx"
   },
   "source": [
    "## Download and prepare the dataset\n",
    "\n",
    "In this tutorial, you will use the Keras Tuner to find the best hyperparameters for a machine learning model that classifies images of clothing from the [Fashion MNIST dataset](https://github.com/zalandoresearch/fashion-mnist)."
   ]
  },
  {
   "cell_type": "markdown",
   "metadata": {
    "id": "HljH_ENLEdHa"
   },
   "source": [
    "Load the data."
   ]
  },
  {
   "cell_type": "code",
   "execution_count": 4,
   "metadata": {
    "execution": {
     "iopub.execute_input": "2021-05-19T10:54:19.263226Z",
     "iopub.status.busy": "2021-05-19T10:54:19.262569Z",
     "iopub.status.idle": "2021-05-19T10:54:19.693674Z",
     "shell.execute_reply": "2021-05-19T10:54:19.693079Z"
    },
    "id": "OHlHs9Wj_PUM"
   },
   "outputs": [
    {
     "name": "stdout",
     "output_type": "stream",
     "text": [
      "Downloading data from https://storage.googleapis.com/tensorflow/tf-keras-datasets/train-labels-idx1-ubyte.gz\n",
      "32768/29515 [=================================] - 0s 0us/step\n",
      "Downloading data from https://storage.googleapis.com/tensorflow/tf-keras-datasets/train-images-idx3-ubyte.gz\n",
      "26427392/26421880 [==============================] - 1s 0us/step\n",
      "Downloading data from https://storage.googleapis.com/tensorflow/tf-keras-datasets/t10k-labels-idx1-ubyte.gz\n",
      "8192/5148 [===============================================] - 0s 0us/step\n",
      "Downloading data from https://storage.googleapis.com/tensorflow/tf-keras-datasets/t10k-images-idx3-ubyte.gz\n",
      "4423680/4422102 [==============================] - 0s 0us/step\n"
     ]
    }
   ],
   "source": [
    "(img_train, label_train),(img_test, label_test) = keras.datasets.fashion_mnist.load_data()"
   ]
  },
  {
   "cell_type": "code",
   "execution_count": 5,
   "metadata": {
    "execution": {
     "iopub.execute_input": "2021-05-19T10:54:19.698133Z",
     "iopub.status.busy": "2021-05-19T10:54:19.697474Z",
     "iopub.status.idle": "2021-05-19T10:54:19.779672Z",
     "shell.execute_reply": "2021-05-19T10:54:19.780112Z"
    },
    "id": "bLVhXs3xrUD0"
   },
   "outputs": [],
   "source": [
    "# Normalize pixel values between 0 and 1\n",
    "img_train = img_train.astype('float32') / 255.0\n",
    "img_test = img_test.astype('float32') / 255.0"
   ]
  },
  {
   "cell_type": "markdown",
   "metadata": {
    "id": "K5YEL2H2Ax3e"
   },
   "source": [
    "## Define the model\n",
    "\n",
    "When you build a model for hypertuning, you also define the hyperparameter search space in addition to the model architecture. The model you set up for hypertuning is called a *hypermodel*.\n",
    "\n",
    "You can define a hypermodel through two approaches:\n",
    "\n",
    "* By using a model builder function\n",
    "* By subclassing the `HyperModel` class of the Keras Tuner API\n",
    "\n",
    "You can also use two pre-defined `HyperModel` classes - [HyperXception](https://keras-team.github.io/keras-tuner/documentation/hypermodels/#hyperxception-class) and [HyperResNet](https://keras-team.github.io/keras-tuner/documentation/hypermodels/#hyperresnet-class) for computer vision applications.\n",
    "\n",
    "In this tutorial, you use a model builder function to define the image classification model. The model builder function returns a compiled model and uses hyperparameters you define inline to hypertune the model."
   ]
  },
  {
   "cell_type": "code",
   "execution_count": 8,
   "metadata": {
    "execution": {
     "iopub.execute_input": "2021-05-19T10:54:19.787218Z",
     "iopub.status.busy": "2021-05-19T10:54:19.786492Z",
     "iopub.status.idle": "2021-05-19T10:54:19.789316Z",
     "shell.execute_reply": "2021-05-19T10:54:19.788703Z"
    },
    "id": "ZQKodC-jtsva"
   },
   "outputs": [],
   "source": [
    "def model_builder(hp):\n",
    "    model = keras.Sequential()\n",
    "    model.add(keras.layers.Flatten(input_shape=(28, 28)))\n",
    "\n",
    "    # Tune the number of units in the first Dense layer\n",
    "    # Choose an optimal value between 32-512\n",
    "    hp_units = hp.Int('units', min_value=32, max_value=512, step=32)\n",
    "    model.add(keras.layers.Dense(units=hp_units, activation='relu'))\n",
    "    model.add(keras.layers.Dense(10))\n",
    "\n",
    "    # Tune the learning rate for the optimizer\n",
    "    # Choose an optimal value from 0.01, 0.001, or 0.0001\n",
    "    hp_learning_rate = hp.Choice('learning_rate', values=[1e-2, 1e-3, 1e-4])\n",
    "\n",
    "    model.compile(optimizer=keras.optimizers.Adam(learning_rate=hp_learning_rate),\n",
    "                  loss=keras.losses.SparseCategoricalCrossentropy(from_logits=True),\n",
    "                  metrics=['accuracy'])\n",
    "\n",
    "    return model"
   ]
  },
  {
   "cell_type": "markdown",
   "metadata": {
    "id": "0J1VYw4q3x0b"
   },
   "source": [
    "## Instantiate the tuner and perform hypertuning\n",
    "\n",
    "Instantiate the tuner to perform the hypertuning. The Keras Tuner has four tuners available - `RandomSearch`, `Hyperband`, `BayesianOptimization`, and `Sklearn`. In this tutorial, you use the [Hyperband](https://arxiv.org/pdf/1603.06560.pdf) tuner.\n",
    "\n",
    "To instantiate the Hyperband tuner, you must specify the hypermodel, the `objective` to optimize and the maximum number of epochs to train (`max_epochs`)."
   ]
  },
  {
   "cell_type": "code",
   "execution_count": 9,
   "metadata": {
    "execution": {
     "iopub.execute_input": "2021-05-19T10:54:19.793997Z",
     "iopub.status.busy": "2021-05-19T10:54:19.793366Z",
     "iopub.status.idle": "2021-05-19T10:54:20.910243Z",
     "shell.execute_reply": "2021-05-19T10:54:20.909669Z"
    },
    "id": "oichQFly6Y46"
   },
   "outputs": [],
   "source": [
    "tuner = kt.Hyperband(model_builder,\n",
    "                     objective='val_accuracy',\n",
    "                     max_epochs=10,\n",
    "                     factor=3,\n",
    "                     directory='my_dir',\n",
    "                     project_name='intro_to_kt')"
   ]
  },
  {
   "cell_type": "markdown",
   "metadata": {
    "id": "VaIhhdKf9VtI"
   },
   "source": [
    "The Hyperband tuning algorithm uses adaptive resource allocation and early-stopping to quickly converge on a high-performing model. This is done using a sports championship style bracket. The algorithm trains a large number of models for a few epochs and carries forward only the top-performing half of models to the next round. Hyperband determines the number of models to train in a bracket by computing 1 + log<sub>`factor`</sub>(`max_epochs`) and rounding it up to the nearest integer."
   ]
  },
  {
   "cell_type": "markdown",
   "metadata": {
    "id": "cwhBdXx0Ekj8"
   },
   "source": [
    "Create a callback to stop training early after reaching a certain value for the validation loss."
   ]
  },
  {
   "cell_type": "code",
   "execution_count": 10,
   "metadata": {
    "execution": {
     "iopub.execute_input": "2021-05-19T10:54:20.915059Z",
     "iopub.status.busy": "2021-05-19T10:54:20.914310Z",
     "iopub.status.idle": "2021-05-19T10:54:20.916799Z",
     "shell.execute_reply": "2021-05-19T10:54:20.916332Z"
    },
    "id": "WT9IkS9NEjLc"
   },
   "outputs": [],
   "source": [
    "stop_early = tf.keras.callbacks.EarlyStopping(monitor='val_loss', patience=5)"
   ]
  },
  {
   "cell_type": "markdown",
   "metadata": {
    "id": "UKghEo15Tduy"
   },
   "source": [
    "Run the hyperparameter search. The arguments for the search method are the same as those used for `tf.keras.model.fit` in addition to the callback above."
   ]
  },
  {
   "cell_type": "code",
   "execution_count": 11,
   "metadata": {
    "execution": {
     "iopub.execute_input": "2021-05-19T10:54:20.922417Z",
     "iopub.status.busy": "2021-05-19T10:54:20.921459Z",
     "iopub.status.idle": "2021-05-19T11:00:36.801294Z",
     "shell.execute_reply": "2021-05-19T11:00:36.800750Z"
    },
    "id": "dSBQcTHF9cKt"
   },
   "outputs": [
    {
     "name": "stdout",
     "output_type": "stream",
     "text": [
      "Trial 30 Complete [00h 00m 33s]\n",
      "val_accuracy: 0.8556666374206543\n",
      "\n",
      "Best val_accuracy So Far: 0.89083331823349\n",
      "Total elapsed time: 00h 07m 06s\n",
      "INFO:tensorflow:Oracle triggered exit\n",
      "\n",
      "The hyperparameter search is complete. The optimal number of units in the first densely-connected\n",
      "layer is 448 and the optimal learning rate for the optimizer\n",
      "is 0.001.\n",
      "\n"
     ]
    }
   ],
   "source": [
    "tuner.search(img_train, label_train, epochs=50, validation_split=0.2, callbacks=[stop_early])\n",
    "\n",
    "# Get the optimal hyperparameters\n",
    "best_hps=tuner.get_best_hyperparameters(num_trials=1)[0]\n",
    "\n",
    "print(f\"\"\"\n",
    "The hyperparameter search is complete. The optimal number of units in the first densely-connected\n",
    "layer is {best_hps.get('units')} and the optimal learning rate for the optimizer\n",
    "is {best_hps.get('learning_rate')}.\n",
    "\"\"\")"
   ]
  },
  {
   "cell_type": "markdown",
   "metadata": {
    "id": "Lak_ylf88xBv"
   },
   "source": [
    "## Train the model\n",
    "\n",
    "Find the optimal number of epochs to train the model with the hyperparameters obtained from the search."
   ]
  },
  {
   "cell_type": "code",
   "execution_count": 12,
   "metadata": {
    "execution": {
     "iopub.execute_input": "2021-05-19T11:00:36.807280Z",
     "iopub.status.busy": "2021-05-19T11:00:36.806639Z",
     "iopub.status.idle": "2021-05-19T11:02:55.350077Z",
     "shell.execute_reply": "2021-05-19T11:02:55.349568Z"
    },
    "id": "McO82AXOuxXh",
    "scrolled": true
   },
   "outputs": [
    {
     "name": "stdout",
     "output_type": "stream",
     "text": [
      "Epoch 1/50\n",
      "1500/1500 [==============================] - 4s 2ms/step - loss: 0.4965 - accuracy: 0.8241 - val_loss: 0.3935 - val_accuracy: 0.8587\n",
      "Epoch 2/50\n",
      "1500/1500 [==============================] - 3s 2ms/step - loss: 0.3698 - accuracy: 0.8654 - val_loss: 0.3542 - val_accuracy: 0.8742\n",
      "Epoch 3/50\n",
      "1500/1500 [==============================] - 3s 2ms/step - loss: 0.3309 - accuracy: 0.8788 - val_loss: 0.3540 - val_accuracy: 0.8708\n",
      "Epoch 4/50\n",
      "1500/1500 [==============================] - 3s 2ms/step - loss: 0.3058 - accuracy: 0.8871 - val_loss: 0.3201 - val_accuracy: 0.8843\n",
      "Epoch 5/50\n",
      "1500/1500 [==============================] - 3s 2ms/step - loss: 0.2854 - accuracy: 0.8947 - val_loss: 0.3222 - val_accuracy: 0.8854\n",
      "Epoch 6/50\n",
      "1500/1500 [==============================] - 3s 2ms/step - loss: 0.2722 - accuracy: 0.8999 - val_loss: 0.3417 - val_accuracy: 0.8756\n",
      "Epoch 7/50\n",
      "1500/1500 [==============================] - 3s 2ms/step - loss: 0.2578 - accuracy: 0.9039 - val_loss: 0.3250 - val_accuracy: 0.8833\n",
      "Epoch 8/50\n",
      "1500/1500 [==============================] - 3s 2ms/step - loss: 0.2462 - accuracy: 0.9078 - val_loss: 0.3462 - val_accuracy: 0.8811\n",
      "Epoch 9/50\n",
      "1500/1500 [==============================] - 3s 2ms/step - loss: 0.2349 - accuracy: 0.9121 - val_loss: 0.3139 - val_accuracy: 0.8928\n",
      "Epoch 10/50\n",
      "1500/1500 [==============================] - 3s 2ms/step - loss: 0.2249 - accuracy: 0.9155 - val_loss: 0.3104 - val_accuracy: 0.8932\n",
      "Epoch 11/50\n",
      "1500/1500 [==============================] - 3s 2ms/step - loss: 0.2151 - accuracy: 0.9189 - val_loss: 0.3292 - val_accuracy: 0.8857\n",
      "Epoch 12/50\n",
      "1500/1500 [==============================] - 3s 2ms/step - loss: 0.2080 - accuracy: 0.9218 - val_loss: 0.3348 - val_accuracy: 0.8889\n",
      "Epoch 13/50\n",
      "1500/1500 [==============================] - 3s 2ms/step - loss: 0.2017 - accuracy: 0.9245 - val_loss: 0.3375 - val_accuracy: 0.8877\n",
      "Epoch 14/50\n",
      "1500/1500 [==============================] - 3s 2ms/step - loss: 0.1913 - accuracy: 0.9280 - val_loss: 0.3338 - val_accuracy: 0.8897\n",
      "Epoch 15/50\n",
      "1500/1500 [==============================] - 3s 2ms/step - loss: 0.1857 - accuracy: 0.9312 - val_loss: 0.3402 - val_accuracy: 0.8863\n",
      "Epoch 16/50\n",
      "1500/1500 [==============================] - 3s 2ms/step - loss: 0.1815 - accuracy: 0.9321 - val_loss: 0.3325 - val_accuracy: 0.8882\n",
      "Epoch 17/50\n",
      "1500/1500 [==============================] - 3s 2ms/step - loss: 0.1740 - accuracy: 0.9347 - val_loss: 0.3662 - val_accuracy: 0.8855\n",
      "Epoch 18/50\n",
      "1500/1500 [==============================] - 3s 2ms/step - loss: 0.1682 - accuracy: 0.9372 - val_loss: 0.3510 - val_accuracy: 0.8898\n",
      "Epoch 19/50\n",
      "1500/1500 [==============================] - 3s 2ms/step - loss: 0.1633 - accuracy: 0.9392 - val_loss: 0.3432 - val_accuracy: 0.8929\n",
      "Epoch 20/50\n",
      "1500/1500 [==============================] - 3s 2ms/step - loss: 0.1562 - accuracy: 0.9420 - val_loss: 0.3472 - val_accuracy: 0.8933\n",
      "Epoch 21/50\n",
      "1500/1500 [==============================] - 3s 2ms/step - loss: 0.1510 - accuracy: 0.9418 - val_loss: 0.3595 - val_accuracy: 0.8915\n",
      "Epoch 22/50\n",
      "1500/1500 [==============================] - 3s 2ms/step - loss: 0.1472 - accuracy: 0.9448 - val_loss: 0.3823 - val_accuracy: 0.8882\n",
      "Epoch 23/50\n",
      "1500/1500 [==============================] - 3s 2ms/step - loss: 0.1444 - accuracy: 0.9455 - val_loss: 0.3671 - val_accuracy: 0.8928\n",
      "Epoch 24/50\n",
      "1500/1500 [==============================] - 3s 2ms/step - loss: 0.1366 - accuracy: 0.9492 - val_loss: 0.3777 - val_accuracy: 0.8970\n",
      "Epoch 25/50\n",
      "1500/1500 [==============================] - 3s 2ms/step - loss: 0.1383 - accuracy: 0.9482 - val_loss: 0.3635 - val_accuracy: 0.8938\n",
      "Epoch 26/50\n",
      "1500/1500 [==============================] - 3s 2ms/step - loss: 0.1300 - accuracy: 0.9513 - val_loss: 0.3546 - val_accuracy: 0.8953\n",
      "Epoch 27/50\n",
      "1500/1500 [==============================] - 3s 2ms/step - loss: 0.1271 - accuracy: 0.9521 - val_loss: 0.3908 - val_accuracy: 0.8948\n",
      "Epoch 28/50\n",
      "1500/1500 [==============================] - 3s 2ms/step - loss: 0.1265 - accuracy: 0.9526 - val_loss: 0.4001 - val_accuracy: 0.8923\n",
      "Epoch 29/50\n",
      "1500/1500 [==============================] - 3s 2ms/step - loss: 0.1211 - accuracy: 0.9551 - val_loss: 0.3838 - val_accuracy: 0.8927\n",
      "Epoch 30/50\n",
      "1500/1500 [==============================] - 3s 2ms/step - loss: 0.1191 - accuracy: 0.9560 - val_loss: 0.4118 - val_accuracy: 0.8919\n",
      "Epoch 31/50\n",
      "1500/1500 [==============================] - 3s 2ms/step - loss: 0.1135 - accuracy: 0.9569 - val_loss: 0.4152 - val_accuracy: 0.8918\n",
      "Epoch 32/50\n",
      "1500/1500 [==============================] - 3s 2ms/step - loss: 0.1113 - accuracy: 0.9572 - val_loss: 0.4062 - val_accuracy: 0.8930\n",
      "Epoch 33/50\n",
      "1500/1500 [==============================] - 3s 2ms/step - loss: 0.1087 - accuracy: 0.9595 - val_loss: 0.4379 - val_accuracy: 0.8885\n",
      "Epoch 34/50\n",
      "1500/1500 [==============================] - 3s 2ms/step - loss: 0.1064 - accuracy: 0.9604 - val_loss: 0.4214 - val_accuracy: 0.8905\n",
      "Epoch 35/50\n",
      "1500/1500 [==============================] - 3s 2ms/step - loss: 0.1038 - accuracy: 0.9607 - val_loss: 0.5044 - val_accuracy: 0.8788\n",
      "Epoch 36/50\n",
      "1500/1500 [==============================] - 3s 2ms/step - loss: 0.1005 - accuracy: 0.9625 - val_loss: 0.4565 - val_accuracy: 0.8911\n",
      "Epoch 37/50\n",
      "1500/1500 [==============================] - 3s 2ms/step - loss: 0.0990 - accuracy: 0.9631 - val_loss: 0.4330 - val_accuracy: 0.8955\n",
      "Epoch 38/50\n",
      "1500/1500 [==============================] - 3s 2ms/step - loss: 0.0956 - accuracy: 0.9637 - val_loss: 0.4587 - val_accuracy: 0.8921\n",
      "Epoch 39/50\n",
      "1500/1500 [==============================] - 3s 2ms/step - loss: 0.0963 - accuracy: 0.9632 - val_loss: 0.4681 - val_accuracy: 0.8880\n",
      "Epoch 40/50\n",
      "1500/1500 [==============================] - 3s 2ms/step - loss: 0.0922 - accuracy: 0.9657 - val_loss: 0.4684 - val_accuracy: 0.8900\n",
      "Epoch 41/50\n",
      "1500/1500 [==============================] - 3s 2ms/step - loss: 0.0886 - accuracy: 0.9666 - val_loss: 0.4686 - val_accuracy: 0.8982\n",
      "Epoch 42/50\n",
      "1500/1500 [==============================] - 3s 2ms/step - loss: 0.0905 - accuracy: 0.9668 - val_loss: 0.4584 - val_accuracy: 0.8883\n",
      "Epoch 43/50\n",
      "1500/1500 [==============================] - 3s 2ms/step - loss: 0.0845 - accuracy: 0.9680 - val_loss: 0.5529 - val_accuracy: 0.8857\n",
      "Epoch 44/50\n",
      "1500/1500 [==============================] - 3s 2ms/step - loss: 0.0879 - accuracy: 0.9669 - val_loss: 0.4944 - val_accuracy: 0.8886\n",
      "Epoch 45/50\n",
      "1500/1500 [==============================] - 3s 2ms/step - loss: 0.0812 - accuracy: 0.9692 - val_loss: 0.4953 - val_accuracy: 0.8928\n",
      "Epoch 46/50\n",
      "1500/1500 [==============================] - 3s 2ms/step - loss: 0.0802 - accuracy: 0.9701 - val_loss: 0.5034 - val_accuracy: 0.8894\n",
      "Epoch 47/50\n",
      "1500/1500 [==============================] - 3s 2ms/step - loss: 0.0795 - accuracy: 0.9707 - val_loss: 0.5601 - val_accuracy: 0.8891\n",
      "Epoch 48/50\n",
      "1500/1500 [==============================] - 3s 2ms/step - loss: 0.0755 - accuracy: 0.9713 - val_loss: 0.5139 - val_accuracy: 0.8916\n",
      "Epoch 49/50\n",
      "1500/1500 [==============================] - 3s 2ms/step - loss: 0.0772 - accuracy: 0.9711 - val_loss: 0.5391 - val_accuracy: 0.8907\n",
      "Epoch 50/50\n",
      "1500/1500 [==============================] - 3s 2ms/step - loss: 0.0731 - accuracy: 0.9724 - val_loss: 0.5484 - val_accuracy: 0.8921\n",
      "Best epoch: 41\n"
     ]
    }
   ],
   "source": [
    "# Build the model with the optimal hyperparameters and train it on the data for 50 epochs\n",
    "model = tuner.hypermodel.build(best_hps)\n",
    "history = model.fit(img_train, label_train, epochs=50, validation_split=0.2)\n",
    "\n",
    "val_acc_per_epoch = history.history['val_accuracy']\n",
    "best_epoch = val_acc_per_epoch.index(max(val_acc_per_epoch)) + 1\n",
    "print('Best epoch: %d' % (best_epoch,))"
   ]
  },
  {
   "cell_type": "markdown",
   "metadata": {
    "id": "uOTSirSTI3Gp"
   },
   "source": [
    "Re-instantiate the hypermodel and train it with the optimal number of epochs from above."
   ]
  },
  {
   "cell_type": "code",
   "execution_count": 14,
   "metadata": {
    "execution": {
     "iopub.execute_input": "2021-05-19T11:02:55.355488Z",
     "iopub.status.busy": "2021-05-19T11:02:55.354184Z",
     "iopub.status.idle": "2021-05-19T11:04:42.361898Z",
     "shell.execute_reply": "2021-05-19T11:04:42.362298Z"
    },
    "id": "NoiPUEHmMhCe",
    "scrolled": true
   },
   "outputs": [
    {
     "name": "stdout",
     "output_type": "stream",
     "text": [
      "Epoch 1/41\n",
      "1500/1500 [==============================] - 3s 2ms/step - loss: 0.4910 - accuracy: 0.8265 - val_loss: 0.4329 - val_accuracy: 0.8437\n",
      "Epoch 2/41\n",
      "1500/1500 [==============================] - 3s 2ms/step - loss: 0.3732 - accuracy: 0.8645 - val_loss: 0.3496 - val_accuracy: 0.8749\n",
      "Epoch 3/41\n",
      "1500/1500 [==============================] - 3s 2ms/step - loss: 0.3315 - accuracy: 0.8792 - val_loss: 0.3708 - val_accuracy: 0.8651\n",
      "Epoch 4/41\n",
      "1500/1500 [==============================] - 3s 2ms/step - loss: 0.3107 - accuracy: 0.8850 - val_loss: 0.3345 - val_accuracy: 0.8783\n",
      "Epoch 5/41\n",
      "1500/1500 [==============================] - 3s 2ms/step - loss: 0.2900 - accuracy: 0.8920 - val_loss: 0.3162 - val_accuracy: 0.8875\n",
      "Epoch 6/41\n",
      "1500/1500 [==============================] - 3s 2ms/step - loss: 0.2705 - accuracy: 0.8972 - val_loss: 0.3222 - val_accuracy: 0.8845\n",
      "Epoch 7/41\n",
      "1500/1500 [==============================] - 3s 2ms/step - loss: 0.2592 - accuracy: 0.9036 - val_loss: 0.3107 - val_accuracy: 0.8884\n",
      "Epoch 8/41\n",
      "1500/1500 [==============================] - 3s 2ms/step - loss: 0.2467 - accuracy: 0.9083 - val_loss: 0.3134 - val_accuracy: 0.8891\n",
      "Epoch 9/41\n",
      "1500/1500 [==============================] - 3s 2ms/step - loss: 0.2341 - accuracy: 0.9119 - val_loss: 0.3174 - val_accuracy: 0.8894\n",
      "Epoch 10/41\n",
      "1500/1500 [==============================] - 3s 2ms/step - loss: 0.2259 - accuracy: 0.9146 - val_loss: 0.3122 - val_accuracy: 0.8889\n",
      "Epoch 11/41\n",
      "1500/1500 [==============================] - 3s 2ms/step - loss: 0.2182 - accuracy: 0.9179 - val_loss: 0.3269 - val_accuracy: 0.8900\n",
      "Epoch 12/41\n",
      "1500/1500 [==============================] - 3s 2ms/step - loss: 0.2064 - accuracy: 0.9226 - val_loss: 0.3488 - val_accuracy: 0.8888\n",
      "Epoch 13/41\n",
      "1500/1500 [==============================] - 3s 2ms/step - loss: 0.1994 - accuracy: 0.9245 - val_loss: 0.3246 - val_accuracy: 0.8904\n",
      "Epoch 14/41\n",
      "1500/1500 [==============================] - 3s 2ms/step - loss: 0.1928 - accuracy: 0.9270 - val_loss: 0.3304 - val_accuracy: 0.8934\n",
      "Epoch 15/41\n",
      "1500/1500 [==============================] - 3s 2ms/step - loss: 0.1869 - accuracy: 0.9290 - val_loss: 0.3168 - val_accuracy: 0.8946\n",
      "Epoch 16/41\n",
      "1500/1500 [==============================] - 3s 2ms/step - loss: 0.1797 - accuracy: 0.9320 - val_loss: 0.3292 - val_accuracy: 0.8930\n",
      "Epoch 17/41\n",
      "1500/1500 [==============================] - 3s 2ms/step - loss: 0.1734 - accuracy: 0.9347 - val_loss: 0.3463 - val_accuracy: 0.8932\n",
      "Epoch 18/41\n",
      "1500/1500 [==============================] - 3s 2ms/step - loss: 0.1657 - accuracy: 0.9394 - val_loss: 0.3553 - val_accuracy: 0.8938\n",
      "Epoch 19/41\n",
      "1500/1500 [==============================] - 3s 2ms/step - loss: 0.1612 - accuracy: 0.9386 - val_loss: 0.3524 - val_accuracy: 0.8943\n",
      "Epoch 20/41\n",
      "1500/1500 [==============================] - 3s 2ms/step - loss: 0.1574 - accuracy: 0.9408 - val_loss: 0.3472 - val_accuracy: 0.8916\n",
      "Epoch 21/41\n",
      "1500/1500 [==============================] - 3s 2ms/step - loss: 0.1546 - accuracy: 0.9418 - val_loss: 0.3596 - val_accuracy: 0.8898\n",
      "Epoch 22/41\n",
      "1500/1500 [==============================] - 3s 2ms/step - loss: 0.1518 - accuracy: 0.9430 - val_loss: 0.3654 - val_accuracy: 0.8923\n",
      "Epoch 23/41\n",
      "1500/1500 [==============================] - 3s 2ms/step - loss: 0.1450 - accuracy: 0.9460 - val_loss: 0.3874 - val_accuracy: 0.8878\n",
      "Epoch 24/41\n",
      "1500/1500 [==============================] - 3s 2ms/step - loss: 0.1403 - accuracy: 0.9472 - val_loss: 0.3660 - val_accuracy: 0.8940\n",
      "Epoch 25/41\n",
      "1500/1500 [==============================] - 3s 2ms/step - loss: 0.1362 - accuracy: 0.9474 - val_loss: 0.3838 - val_accuracy: 0.8944\n",
      "Epoch 26/41\n",
      "1500/1500 [==============================] - 3s 2ms/step - loss: 0.1308 - accuracy: 0.9511 - val_loss: 0.3996 - val_accuracy: 0.8889\n",
      "Epoch 27/41\n",
      "1500/1500 [==============================] - 3s 2ms/step - loss: 0.1290 - accuracy: 0.9518 - val_loss: 0.4092 - val_accuracy: 0.8891\n",
      "Epoch 28/41\n",
      "1500/1500 [==============================] - 3s 2ms/step - loss: 0.1242 - accuracy: 0.9538 - val_loss: 0.4027 - val_accuracy: 0.8907\n",
      "Epoch 29/41\n",
      "1500/1500 [==============================] - 3s 2ms/step - loss: 0.1212 - accuracy: 0.9548 - val_loss: 0.4125 - val_accuracy: 0.8898\n",
      "Epoch 30/41\n",
      "1500/1500 [==============================] - 3s 2ms/step - loss: 0.1181 - accuracy: 0.9552 - val_loss: 0.4268 - val_accuracy: 0.8874\n",
      "Epoch 31/41\n",
      "1500/1500 [==============================] - 3s 2ms/step - loss: 0.1165 - accuracy: 0.9568 - val_loss: 0.4226 - val_accuracy: 0.8896\n",
      "Epoch 32/41\n",
      "1500/1500 [==============================] - 3s 2ms/step - loss: 0.1120 - accuracy: 0.9580 - val_loss: 0.4616 - val_accuracy: 0.8881\n",
      "Epoch 33/41\n",
      "1500/1500 [==============================] - 3s 2ms/step - loss: 0.1097 - accuracy: 0.9579 - val_loss: 0.3990 - val_accuracy: 0.8968\n",
      "Epoch 34/41\n",
      "1500/1500 [==============================] - 3s 2ms/step - loss: 0.1076 - accuracy: 0.9605 - val_loss: 0.4437 - val_accuracy: 0.8893\n",
      "Epoch 35/41\n",
      "1500/1500 [==============================] - 3s 2ms/step - loss: 0.1028 - accuracy: 0.9619 - val_loss: 0.4133 - val_accuracy: 0.8943\n",
      "Epoch 36/41\n",
      "1500/1500 [==============================] - 3s 2ms/step - loss: 0.1058 - accuracy: 0.9606 - val_loss: 0.4511 - val_accuracy: 0.8927\n",
      "Epoch 37/41\n",
      "1500/1500 [==============================] - 3s 2ms/step - loss: 0.1004 - accuracy: 0.9612 - val_loss: 0.4505 - val_accuracy: 0.8922\n",
      "Epoch 38/41\n",
      "1500/1500 [==============================] - 3s 2ms/step - loss: 0.0999 - accuracy: 0.9624 - val_loss: 0.4627 - val_accuracy: 0.8915\n",
      "Epoch 39/41\n",
      "1500/1500 [==============================] - 3s 2ms/step - loss: 0.0961 - accuracy: 0.9642 - val_loss: 0.4634 - val_accuracy: 0.8878\n",
      "Epoch 40/41\n",
      "1500/1500 [==============================] - 3s 2ms/step - loss: 0.0929 - accuracy: 0.9641 - val_loss: 0.4434 - val_accuracy: 0.8972\n",
      "Epoch 41/41\n",
      "1500/1500 [==============================] - 3s 2ms/step - loss: 0.0931 - accuracy: 0.9644 - val_loss: 0.4785 - val_accuracy: 0.8914\n"
     ]
    },
    {
     "data": {
      "text/plain": [
       "<tensorflow.python.keras.callbacks.History at 0x1454ac4b6a00>"
      ]
     },
     "execution_count": 14,
     "metadata": {},
     "output_type": "execute_result"
    }
   ],
   "source": [
    "hypermodel = tuner.hypermodel.build(best_hps)\n",
    "\n",
    "# Retrain the model\n",
    "hypermodel.fit(img_train, label_train, epochs=best_epoch, validation_split=0.2)"
   ]
  },
  {
   "cell_type": "markdown",
   "metadata": {
    "id": "MqU5ZVAaag2v"
   },
   "source": [
    "To finish this tutorial, evaluate the hypermodel on the test data."
   ]
  },
  {
   "cell_type": "code",
   "execution_count": 15,
   "metadata": {
    "execution": {
     "iopub.execute_input": "2021-05-19T11:04:42.366513Z",
     "iopub.status.busy": "2021-05-19T11:04:42.365935Z",
     "iopub.status.idle": "2021-05-19T11:04:43.090051Z",
     "shell.execute_reply": "2021-05-19T11:04:43.089576Z"
    },
    "id": "9E0BTp9Ealjb"
   },
   "outputs": [
    {
     "name": "stdout",
     "output_type": "stream",
     "text": [
      "313/313 [==============================] - 1s 2ms/step - loss: 0.5223 - accuracy: 0.8875\n",
      "[test loss, test accuracy]: [0.5223245620727539, 0.887499988079071]\n"
     ]
    }
   ],
   "source": [
    "eval_result = hypermodel.evaluate(img_test, label_test)\n",
    "print(\"[test loss, test accuracy]:\", eval_result)"
   ]
  },
  {
   "cell_type": "markdown",
   "metadata": {
    "id": "EQRpPHZsz-eC"
   },
   "source": [
    "The `my_dir/intro_to_kt` directory contains detailed logs and checkpoints for every trial (model configuration) run during the hyperparameter search. If you re-run the hyperparameter search, the Keras Tuner uses the existing state from these logs to resume the search. To disable this behavior, pass an additional `overwrite=True` argument while instantiating the tuner."
   ]
  },
  {
   "cell_type": "markdown",
   "metadata": {
    "id": "sKwLOzKpFGAj"
   },
   "source": [
    "## Summary\n",
    "\n",
    "In this tutorial, you learned how to use the Keras Tuner to tune hyperparameters for a model. To learn more about the Keras Tuner, check out these additional resources:\n",
    "\n",
    "* [Keras Tuner on the TensorFlow blog](https://blog.tensorflow.org/2020/01/hyperparameter-tuning-with-keras-tuner.html)\n",
    "* [Keras Tuner website](https://keras-team.github.io/keras-tuner/)\n",
    "\n"
   ]
  },
  {
   "cell_type": "markdown",
   "metadata": {},
   "source": [
    "# Assignment\n",
    "Now that you have seen how to use `keras_tuner`, try it out yourself, for example with different optimizers or batch sizes!"
   ]
  },
  {
   "cell_type": "code",
   "execution_count": null,
   "metadata": {},
   "outputs": [],
   "source": []
  }
 ],
 "metadata": {
  "accelerator": "GPU",
  "colab": {
   "collapsed_sections": [
    "Tce3stUlHN0L"
   ],
   "name": "keras_tuner.ipynb",
   "toc_visible": true
  },
  "kernelspec": {
   "display_name": "Python 3",
   "language": "python",
   "name": "python3"
  },
  "language_info": {
   "codemirror_mode": {
    "name": "ipython",
    "version": 3
   },
   "file_extension": ".py",
   "mimetype": "text/x-python",
   "name": "python",
   "nbconvert_exporter": "python",
   "pygments_lexer": "ipython3",
   "version": "3.8.2"
  }
 },
 "nbformat": 4,
 "nbformat_minor": 1
}
